{
 "cells": [
  {
   "cell_type": "code",
   "execution_count": 2,
   "id": "5f29c260",
   "metadata": {},
   "outputs": [
    {
     "name": "stdout",
     "output_type": "stream",
     "text": [
      "Requirement already satisfied: fastembed in /usr/local/python/3.12.1/lib/python3.12/site-packages (0.7.1)\n",
      "Requirement already satisfied: huggingface-hub<1.0,>=0.20 in /usr/local/python/3.12.1/lib/python3.12/site-packages (from fastembed) (0.34.4)\n",
      "Requirement already satisfied: loguru<0.8.0,>=0.7.2 in /usr/local/python/3.12.1/lib/python3.12/site-packages (from fastembed) (0.7.3)\n",
      "Requirement already satisfied: mmh3<6.0.0,>=4.1.0 in /usr/local/python/3.12.1/lib/python3.12/site-packages (from fastembed) (5.2.0)\n",
      "Requirement already satisfied: numpy>=1.26 in /home/codespace/.local/lib/python3.12/site-packages (from fastembed) (2.3.1)\n",
      "Requirement already satisfied: onnxruntime!=1.20.0,>=1.17.0 in /usr/local/python/3.12.1/lib/python3.12/site-packages (from fastembed) (1.22.1)\n",
      "Requirement already satisfied: pillow<12.0.0,>=10.3.0 in /home/codespace/.local/lib/python3.12/site-packages (from fastembed) (11.3.0)\n",
      "Requirement already satisfied: py-rust-stemmers<0.2.0,>=0.1.0 in /usr/local/python/3.12.1/lib/python3.12/site-packages (from fastembed) (0.1.5)\n",
      "Requirement already satisfied: requests<3.0,>=2.31 in /home/codespace/.local/lib/python3.12/site-packages (from fastembed) (2.32.4)\n",
      "Requirement already satisfied: tokenizers<1.0,>=0.15 in /usr/local/python/3.12.1/lib/python3.12/site-packages (from fastembed) (0.21.4)\n",
      "Requirement already satisfied: tqdm<5.0,>=4.66 in /usr/local/python/3.12.1/lib/python3.12/site-packages (from fastembed) (4.67.1)\n",
      "Requirement already satisfied: filelock in /home/codespace/.local/lib/python3.12/site-packages (from huggingface-hub<1.0,>=0.20->fastembed) (3.13.1)\n",
      "Requirement already satisfied: fsspec>=2023.5.0 in /home/codespace/.local/lib/python3.12/site-packages (from huggingface-hub<1.0,>=0.20->fastembed) (2024.6.1)\n",
      "Requirement already satisfied: packaging>=20.9 in /home/codespace/.local/lib/python3.12/site-packages (from huggingface-hub<1.0,>=0.20->fastembed) (25.0)\n",
      "Requirement already satisfied: pyyaml>=5.1 in /home/codespace/.local/lib/python3.12/site-packages (from huggingface-hub<1.0,>=0.20->fastembed) (6.0.2)\n",
      "Requirement already satisfied: typing-extensions>=3.7.4.3 in /home/codespace/.local/lib/python3.12/site-packages (from huggingface-hub<1.0,>=0.20->fastembed) (4.14.1)\n",
      "Requirement already satisfied: hf-xet<2.0.0,>=1.1.3 in /usr/local/python/3.12.1/lib/python3.12/site-packages (from huggingface-hub<1.0,>=0.20->fastembed) (1.1.8)\n",
      "Requirement already satisfied: charset_normalizer<4,>=2 in /home/codespace/.local/lib/python3.12/site-packages (from requests<3.0,>=2.31->fastembed) (3.4.2)\n",
      "Requirement already satisfied: idna<4,>=2.5 in /home/codespace/.local/lib/python3.12/site-packages (from requests<3.0,>=2.31->fastembed) (3.10)\n",
      "Requirement already satisfied: urllib3<3,>=1.21.1 in /home/codespace/.local/lib/python3.12/site-packages (from requests<3.0,>=2.31->fastembed) (2.5.0)\n",
      "Requirement already satisfied: certifi>=2017.4.17 in /home/codespace/.local/lib/python3.12/site-packages (from requests<3.0,>=2.31->fastembed) (2025.7.9)\n",
      "Requirement already satisfied: coloredlogs in /usr/local/python/3.12.1/lib/python3.12/site-packages (from onnxruntime!=1.20.0,>=1.17.0->fastembed) (15.0.1)\n",
      "Requirement already satisfied: flatbuffers in /usr/local/python/3.12.1/lib/python3.12/site-packages (from onnxruntime!=1.20.0,>=1.17.0->fastembed) (25.2.10)\n",
      "Requirement already satisfied: protobuf in /usr/local/python/3.12.1/lib/python3.12/site-packages (from onnxruntime!=1.20.0,>=1.17.0->fastembed) (6.32.0)\n",
      "Requirement already satisfied: sympy in /home/codespace/.local/lib/python3.12/site-packages (from onnxruntime!=1.20.0,>=1.17.0->fastembed) (1.13.3)\n",
      "Requirement already satisfied: humanfriendly>=9.1 in /usr/local/python/3.12.1/lib/python3.12/site-packages (from coloredlogs->onnxruntime!=1.20.0,>=1.17.0->fastembed) (10.0)\n",
      "Requirement already satisfied: mpmath<1.4,>=1.1.0 in /home/codespace/.local/lib/python3.12/site-packages (from sympy->onnxruntime!=1.20.0,>=1.17.0->fastembed) (1.3.0)\n",
      "\n",
      "\u001b[1m[\u001b[0m\u001b[34;49mnotice\u001b[0m\u001b[1;39;49m]\u001b[0m\u001b[39;49m A new release of pip is available: \u001b[0m\u001b[31;49m25.1.1\u001b[0m\u001b[39;49m -> \u001b[0m\u001b[32;49m25.2\u001b[0m\n",
      "\u001b[1m[\u001b[0m\u001b[34;49mnotice\u001b[0m\u001b[1;39;49m]\u001b[0m\u001b[39;49m To update, run: \u001b[0m\u001b[32;49mpython3 -m pip install --upgrade pip\u001b[0m\n"
     ]
    }
   ],
   "source": [
    "!pip install fastembed"
   ]
  },
  {
   "cell_type": "code",
   "execution_count": 3,
   "id": "c0ae3a6e",
   "metadata": {},
   "outputs": [
    {
     "name": "stderr",
     "output_type": "stream",
     "text": [
      "/usr/local/python/3.12.1/lib/python3.12/site-packages/tqdm/auto.py:21: TqdmWarning: IProgress not found. Please update jupyter and ipywidgets. See https://ipywidgets.readthedocs.io/en/stable/user_install.html\n",
      "  from .autonotebook import tqdm as notebook_tqdm\n"
     ]
    }
   ],
   "source": [
    "from fastembed import TextEmbedding"
   ]
  },
  {
   "cell_type": "code",
   "execution_count": 4,
   "id": "caa6e9dc",
   "metadata": {},
   "outputs": [
    {
     "name": "stdout",
     "output_type": "stream",
     "text": [
      "Requirement already satisfied: fastembed in /usr/local/python/3.12.1/lib/python3.12/site-packages (0.7.1)\n",
      "Requirement already satisfied: numpy in /home/codespace/.local/lib/python3.12/site-packages (2.3.1)\n",
      "Requirement already satisfied: qdrant-client in /usr/local/python/3.12.1/lib/python3.12/site-packages (1.15.1)\n",
      "Requirement already satisfied: requests in /home/codespace/.local/lib/python3.12/site-packages (2.32.4)\n",
      "Requirement already satisfied: huggingface-hub<1.0,>=0.20 in /usr/local/python/3.12.1/lib/python3.12/site-packages (from fastembed) (0.34.4)\n",
      "Requirement already satisfied: loguru<0.8.0,>=0.7.2 in /usr/local/python/3.12.1/lib/python3.12/site-packages (from fastembed) (0.7.3)\n",
      "Requirement already satisfied: mmh3<6.0.0,>=4.1.0 in /usr/local/python/3.12.1/lib/python3.12/site-packages (from fastembed) (5.2.0)\n",
      "Requirement already satisfied: onnxruntime!=1.20.0,>=1.17.0 in /usr/local/python/3.12.1/lib/python3.12/site-packages (from fastembed) (1.22.1)\n",
      "Requirement already satisfied: pillow<12.0.0,>=10.3.0 in /home/codespace/.local/lib/python3.12/site-packages (from fastembed) (11.3.0)\n",
      "Requirement already satisfied: py-rust-stemmers<0.2.0,>=0.1.0 in /usr/local/python/3.12.1/lib/python3.12/site-packages (from fastembed) (0.1.5)\n",
      "Requirement already satisfied: tokenizers<1.0,>=0.15 in /usr/local/python/3.12.1/lib/python3.12/site-packages (from fastembed) (0.21.4)\n",
      "Requirement already satisfied: tqdm<5.0,>=4.66 in /usr/local/python/3.12.1/lib/python3.12/site-packages (from fastembed) (4.67.1)\n",
      "Requirement already satisfied: charset_normalizer<4,>=2 in /home/codespace/.local/lib/python3.12/site-packages (from requests) (3.4.2)\n",
      "Requirement already satisfied: idna<4,>=2.5 in /home/codespace/.local/lib/python3.12/site-packages (from requests) (3.10)\n",
      "Requirement already satisfied: urllib3<3,>=1.21.1 in /home/codespace/.local/lib/python3.12/site-packages (from requests) (2.5.0)\n",
      "Requirement already satisfied: certifi>=2017.4.17 in /home/codespace/.local/lib/python3.12/site-packages (from requests) (2025.7.9)\n",
      "Requirement already satisfied: filelock in /home/codespace/.local/lib/python3.12/site-packages (from huggingface-hub<1.0,>=0.20->fastembed) (3.13.1)\n",
      "Requirement already satisfied: fsspec>=2023.5.0 in /home/codespace/.local/lib/python3.12/site-packages (from huggingface-hub<1.0,>=0.20->fastembed) (2024.6.1)\n",
      "Requirement already satisfied: packaging>=20.9 in /home/codespace/.local/lib/python3.12/site-packages (from huggingface-hub<1.0,>=0.20->fastembed) (25.0)\n",
      "Requirement already satisfied: pyyaml>=5.1 in /home/codespace/.local/lib/python3.12/site-packages (from huggingface-hub<1.0,>=0.20->fastembed) (6.0.2)\n",
      "Requirement already satisfied: typing-extensions>=3.7.4.3 in /home/codespace/.local/lib/python3.12/site-packages (from huggingface-hub<1.0,>=0.20->fastembed) (4.14.1)\n",
      "Requirement already satisfied: hf-xet<2.0.0,>=1.1.3 in /usr/local/python/3.12.1/lib/python3.12/site-packages (from huggingface-hub<1.0,>=0.20->fastembed) (1.1.8)\n",
      "Requirement already satisfied: grpcio>=1.41.0 in /usr/local/python/3.12.1/lib/python3.12/site-packages (from qdrant-client) (1.74.0)\n",
      "Requirement already satisfied: httpx>=0.20.0 in /home/codespace/.local/lib/python3.12/site-packages (from httpx[http2]>=0.20.0->qdrant-client) (0.28.1)\n",
      "Requirement already satisfied: portalocker<4.0,>=2.7.0 in /usr/local/python/3.12.1/lib/python3.12/site-packages (from qdrant-client) (3.2.0)\n",
      "Requirement already satisfied: protobuf>=3.20.0 in /usr/local/python/3.12.1/lib/python3.12/site-packages (from qdrant-client) (6.32.0)\n",
      "Requirement already satisfied: pydantic!=2.0.*,!=2.1.*,!=2.2.0,>=1.10.8 in /usr/local/python/3.12.1/lib/python3.12/site-packages (from qdrant-client) (2.11.7)\n",
      "Requirement already satisfied: anyio in /home/codespace/.local/lib/python3.12/site-packages (from httpx>=0.20.0->httpx[http2]>=0.20.0->qdrant-client) (4.9.0)\n",
      "Requirement already satisfied: httpcore==1.* in /home/codespace/.local/lib/python3.12/site-packages (from httpx>=0.20.0->httpx[http2]>=0.20.0->qdrant-client) (1.0.9)\n",
      "Requirement already satisfied: h11>=0.16 in /home/codespace/.local/lib/python3.12/site-packages (from httpcore==1.*->httpx>=0.20.0->httpx[http2]>=0.20.0->qdrant-client) (0.16.0)\n",
      "Requirement already satisfied: h2<5,>=3 in /usr/local/python/3.12.1/lib/python3.12/site-packages (from httpx[http2]>=0.20.0->qdrant-client) (4.2.0)\n",
      "Requirement already satisfied: hyperframe<7,>=6.1 in /usr/local/python/3.12.1/lib/python3.12/site-packages (from h2<5,>=3->httpx[http2]>=0.20.0->qdrant-client) (6.1.0)\n",
      "Requirement already satisfied: hpack<5,>=4.1 in /usr/local/python/3.12.1/lib/python3.12/site-packages (from h2<5,>=3->httpx[http2]>=0.20.0->qdrant-client) (4.1.0)\n",
      "Requirement already satisfied: coloredlogs in /usr/local/python/3.12.1/lib/python3.12/site-packages (from onnxruntime!=1.20.0,>=1.17.0->fastembed) (15.0.1)\n",
      "Requirement already satisfied: flatbuffers in /usr/local/python/3.12.1/lib/python3.12/site-packages (from onnxruntime!=1.20.0,>=1.17.0->fastembed) (25.2.10)\n",
      "Requirement already satisfied: sympy in /home/codespace/.local/lib/python3.12/site-packages (from onnxruntime!=1.20.0,>=1.17.0->fastembed) (1.13.3)\n",
      "Requirement already satisfied: annotated-types>=0.6.0 in /usr/local/python/3.12.1/lib/python3.12/site-packages (from pydantic!=2.0.*,!=2.1.*,!=2.2.0,>=1.10.8->qdrant-client) (0.7.0)\n",
      "Requirement already satisfied: pydantic-core==2.33.2 in /usr/local/python/3.12.1/lib/python3.12/site-packages (from pydantic!=2.0.*,!=2.1.*,!=2.2.0,>=1.10.8->qdrant-client) (2.33.2)\n",
      "Requirement already satisfied: typing-inspection>=0.4.0 in /usr/local/python/3.12.1/lib/python3.12/site-packages (from pydantic!=2.0.*,!=2.1.*,!=2.2.0,>=1.10.8->qdrant-client) (0.4.1)\n",
      "Requirement already satisfied: sniffio>=1.1 in /home/codespace/.local/lib/python3.12/site-packages (from anyio->httpx>=0.20.0->httpx[http2]>=0.20.0->qdrant-client) (1.3.1)\n",
      "Requirement already satisfied: humanfriendly>=9.1 in /usr/local/python/3.12.1/lib/python3.12/site-packages (from coloredlogs->onnxruntime!=1.20.0,>=1.17.0->fastembed) (10.0)\n",
      "Requirement already satisfied: mpmath<1.4,>=1.1.0 in /home/codespace/.local/lib/python3.12/site-packages (from sympy->onnxruntime!=1.20.0,>=1.17.0->fastembed) (1.3.0)\n",
      "\n",
      "\u001b[1m[\u001b[0m\u001b[34;49mnotice\u001b[0m\u001b[1;39;49m]\u001b[0m\u001b[39;49m A new release of pip is available: \u001b[0m\u001b[31;49m25.1.1\u001b[0m\u001b[39;49m -> \u001b[0m\u001b[32;49m25.2\u001b[0m\n",
      "\u001b[1m[\u001b[0m\u001b[34;49mnotice\u001b[0m\u001b[1;39;49m]\u001b[0m\u001b[39;49m To update, run: \u001b[0m\u001b[32;49mpython3 -m pip install --upgrade pip\u001b[0m\n"
     ]
    }
   ],
   "source": [
    "!pip install fastembed numpy qdrant-client requests"
   ]
  },
  {
   "cell_type": "code",
   "execution_count": 5,
   "id": "5b5dcfdd",
   "metadata": {},
   "outputs": [
    {
     "name": "stderr",
     "output_type": "stream",
     "text": [
      "Fetching 5 files: 100%|██████████| 5/5 [00:14<00:00,  2.80s/it]\n"
     ]
    },
    {
     "name": "stdout",
     "output_type": "stream",
     "text": [
      "vetcor: (512,)\n",
      "min_value: -0.11726373885183883\n"
     ]
    }
   ],
   "source": [
    "import numpy as np\n",
    "from fastembed import TextEmbedding\n",
    "\n",
    "embedding_model = TextEmbedding(model_name=\"jinaai/jina-embeddings-v2-small-en\")\n",
    "\n",
    "query = 'I just discovered the course. Can I join now?'\n",
    "query_embedding_list = list(embedding_model.embed([query]))\n",
    "query_embedding = query_embedding_list[0]\n",
    "\n",
    "print(f\"vetcor: {query_embedding.shape}\")\n",
    "min_value = np.min(query_embedding)\n",
    "print(f\"min_value: {min_value}\")"
   ]
  },
  {
   "cell_type": "code",
   "execution_count": 6,
   "id": "f1ddbce3",
   "metadata": {},
   "outputs": [
    {
     "data": {
      "text/plain": [
       "np.float64(1.0)"
      ]
     },
     "execution_count": 6,
     "metadata": {},
     "output_type": "execute_result"
    }
   ],
   "source": [
    "import numpy as np\n",
    "\n",
    "np.linalg.norm(query_embedding)"
   ]
  },
  {
   "cell_type": "code",
   "execution_count": 8,
   "id": "4504fdf3",
   "metadata": {},
   "outputs": [
    {
     "name": "stdout",
     "output_type": "stream",
     "text": [
      " the cosine similarity: 0.9008528895674548\n"
     ]
    }
   ],
   "source": [
    "doc = 'Can I still join the course after the start date?'\n",
    "doc_embedding_list = list(embedding_model.embed([doc]))\n",
    "doc_embedding = doc_embedding_list[0]\n",
    "\n",
    "cosine_similarity = query_embedding.dot(doc_embedding)\n",
    "\n",
    "print(f\" the cosine similarity: {cosine_similarity}\")"
   ]
  },
  {
   "cell_type": "code",
   "execution_count": 9,
   "id": "75d5b385",
   "metadata": {},
   "outputs": [
    {
     "name": "stdout",
     "output_type": "stream",
     "text": [
      "scores: [0.76296847 0.81823782 0.80853974 0.7133079  0.73044992]\n",
      "highest_score_index: 1\n"
     ]
    }
   ],
   "source": [
    "documents = [\n",
    "    {'text': \"Yes, even if you don't register, you're still eligible to submit the homeworks.\\nBe aware, however, that there will be deadlines for turning in the final projects. So don't leave everything for the last minute.\", 'section': 'General course-related questions', 'question': 'Course - Can I still join the course after the start date?', 'course': 'data-engineering-zoomcamp'},\n",
    "    {'text': 'Yes, we will keep all the materials after the course finishes, so you can follow the course at your own pace after it finishes.\\nYou can also continue looking at the homeworks and continue preparing for the next cohort. I guess you can also start working on your final capstone project.', 'section': 'General course-related questions', 'question': 'Course - Can I follow the course after it finishes?', 'course': 'data-engineering-zoomcamp'},\n",
    "    {'text': \"The purpose of this document is to capture frequently asked technical questions\\nThe exact day and hour of the course will be 15th Jan 2024 at 17h00. The course will start with the first  “Office Hours'' live.1\\nSubscribe to course public Google Calendar (it works from Desktop only).\\nRegister before the course starts using this link.\\nJoin the course Telegram channel with announcements.\\nDon’t forget to register in DataTalks.Club's Slack and join the channel.\", 'section': 'General course-related questions', 'question': 'Course - When will the course start?', 'course': 'data-engineering-zoomcamp'},\n",
    "    {'text': 'You can start by installing and setting up all the dependencies and requirements:\\nGoogle cloud account\\nGoogle Cloud SDK\\nPython 3 (installed with Anaconda)\\nTerraform\\nGit\\nLook over the prerequisites and syllabus to see if you are comfortable with these subjects.', 'section': 'General course-related questions', 'question': 'Course - What can I do before the course starts?', 'course': 'data-engineering-zoomcamp'},\n",
    "    {'text': 'Star the repo! Share it with friends if you find it useful ❣️\\nCreate a PR if you see you can improve the text or the structure of the repository.', 'section': 'General course-related questions', 'question': 'How can we contribute to the course?', 'course': 'data-engineering-zoomcamp'}\n",
    "]\n",
    "\n",
    "texts = [d['text'] for d in documents]\n",
    "text_embeddings_list = list(embedding_model.embed(texts))\n",
    "V = np.array(text_embeddings_list)\n",
    "\n",
    "scores = V.dot(query_embedding)\n",
    "highest_score_index = np.argmax(scores)\n",
    "\n",
    "print(f\"scores: {scores}\")\n",
    "print(f\"highest_score_index: {highest_score_index}\")"
   ]
  },
  {
   "cell_type": "code",
   "execution_count": 12,
   "id": "465f9252",
   "metadata": {},
   "outputs": [
    {
     "name": "stdout",
     "output_type": "stream",
     "text": [
      "new_scores: [0.85145432 0.84365942 0.8408287  0.7755158  0.80860078]\n",
      "highest_score_index: 1\n"
     ]
    }
   ],
   "source": [
    "full_texts = [doc['question'] + ' ' + doc['text'] for doc in documents]\n",
    "\n",
    "full_text_embeddings_list = list(embedding_model.embed(full_texts))\n",
    "V_full = np.array(full_text_embeddings_list)\n",
    "\n",
    "new_scores = V_full.dot(query_embedding)\n",
    "highest_new_score_index = np.argmax(new_scores)\n",
    "\n",
    "print(f\"new_scores: {new_scores}\")\n",
    "print(f\"highest_score_index: {highest_score_index}\")"
   ]
  },
  {
   "cell_type": "code",
   "execution_count": 13,
   "id": "6b8d8a76",
   "metadata": {},
   "outputs": [
    {
     "name": "stderr",
     "output_type": "stream",
     "text": [
      "\u001b[32m2025-08-24 05:35:01.950\u001b[0m | \u001b[33m\u001b[1mWARNING \u001b[0m | \u001b[36mfastembed.embedding\u001b[0m:\u001b[36m<module>\u001b[0m:\u001b[36m7\u001b[0m - \u001b[33m\u001b[1mDefaultEmbedding, FlagEmbedding, JinaEmbedding are deprecated.Use from fastembed import TextEmbedding instead.\u001b[0m\n"
     ]
    },
    {
     "name": "stdout",
     "output_type": "stream",
     "text": [
      "min_dim: 384\n"
     ]
    }
   ],
   "source": [
    "from fastembed.embedding import FlagEmbedding\n",
    "\n",
    "model_list = FlagEmbedding.list_supported_models()\n",
    "\n",
    "min_dim = float('inf')\n",
    "for model_info in model_list:\n",
    "    if 'dim' in model_info and model_info['dim'] < min_dim:\n",
    "        min_dim = model_info['dim']\n",
    "\n",
    "print(f\"min_dim: {min_dim}\")"
   ]
  },
  {
   "cell_type": "code",
   "execution_count": 14,
   "id": "5e15eabd",
   "metadata": {},
   "outputs": [
    {
     "name": "stderr",
     "output_type": "stream",
     "text": [
      "Fetching 5 files: 100%|██████████| 5/5 [00:06<00:00,  1.20s/it]\n"
     ]
    },
    {
     "ename": "AttributeError",
     "evalue": "'TextEmbedding' object has no attribute 'get_text_embedding_dimension'",
     "output_type": "error",
     "traceback": [
      "\u001b[31m---------------------------------------------------------------------------\u001b[39m",
      "\u001b[31mAttributeError\u001b[39m                            Traceback (most recent call last)",
      "\u001b[36mCell\u001b[39m\u001b[36m \u001b[39m\u001b[32mIn[14]\u001b[39m\u001b[32m, line 23\u001b[39m\n\u001b[32m     19\u001b[39m client = QdrantClient(\u001b[33m\"\u001b[39m\u001b[33m:memory:\u001b[39m\u001b[33m\"\u001b[39m)\n\u001b[32m     21\u001b[39m collection_name = \u001b[33m\"\u001b[39m\u001b[33mml-zoomcamp-faq\u001b[39m\u001b[33m\"\u001b[39m\n\u001b[32m---> \u001b[39m\u001b[32m23\u001b[39m vector_size = \u001b[43membedding_model_small\u001b[49m\u001b[43m.\u001b[49m\u001b[43mget_text_embedding_dimension\u001b[49m(model_name=\u001b[33m\"\u001b[39m\u001b[33mBAAI/bge-small-en\u001b[39m\u001b[33m\"\u001b[39m)\n\u001b[32m     25\u001b[39m client.create_collection(\n\u001b[32m     26\u001b[39m     collection_name=collection_name,\n\u001b[32m     27\u001b[39m     vectors_config=models.VectorParams(\n\u001b[32m   (...)\u001b[39m\u001b[32m     30\u001b[39m     )\n\u001b[32m     31\u001b[39m )\n\u001b[32m     33\u001b[39m texts_to_embed = [doc[\u001b[33m'\u001b[39m\u001b[33mquestion\u001b[39m\u001b[33m'\u001b[39m] + \u001b[33m'\u001b[39m\u001b[33m \u001b[39m\u001b[33m'\u001b[39m + doc[\u001b[33m'\u001b[39m\u001b[33mtext\u001b[39m\u001b[33m'\u001b[39m] \u001b[38;5;28;01mfor\u001b[39;00m doc \u001b[38;5;129;01min\u001b[39;00m documents_ml]\n",
      "\u001b[31mAttributeError\u001b[39m: 'TextEmbedding' object has no attribute 'get_text_embedding_dimension'"
     ]
    }
   ],
   "source": [
    "import requests\n",
    "from qdrant_client import QdrantClient, models\n",
    "\n",
    "docs_url = 'https://github.com/alexeygrigorev/llm-rag-workshop/raw/main/notebooks/documents.json'\n",
    "docs_response = requests.get(docs_url)\n",
    "documents_raw = docs_response.json()\n",
    "\n",
    "documents_ml = []\n",
    "for course in documents_raw:\n",
    "    if course['course'] == 'machine-learning-zoomcamp':\n",
    "        for doc in course['documents']:\n",
    "            doc['course'] = course['course']\n",
    "            documents_ml.append(doc)\n",
    "\n",
    "\n",
    "\n",
    "embedding_model_small = TextEmbedding(model_name=\"BAAI/bge-small-en\")\n",
    "\n",
    "client = QdrantClient(\":memory:\")\n",
    "\n",
    "collection_name = \"ml-zoomcamp-faq\"\n",
    "\n",
    "vector_size = embedding_model_small.get_text_embedding_dimension(model_name=\"BAAI/bge-small-en\")\n",
    "\n",
    "client.create_collection(\n",
    "    collection_name=collection_name,\n",
    "    vectors_config=models.VectorParams(\n",
    "        size=vector_size,\n",
    "        distance=models.Distance.COSINE\n",
    "    )\n",
    ")\n",
    "\n",
    "texts_to_embed = [doc['question'] + ' ' + doc['text'] for doc in documents_ml]\n",
    "embeddings = embedding_model_small.embed(texts_to_embed)\n",
    "\n",
    "client.upload_points(\n",
    "    collection_name=collection_name,\n",
    "    points=[\n",
    "        models.PointStruct(\n",
    "            id=idx,\n",
    "            vector=embedding.tolist(), \n",
    "            payload=doc\n",
    "        )\n",
    "        for idx, (embedding, doc) in enumerate(zip(embeddings, documents_ml))\n",
    "    ],\n",
    "    wait=True\n",
    ")\n",
    "\n",
    "query = 'I just discovered the course. Can I join now?'\n",
    "query_vector_small = embedding_model_small.embed([query])[0]\n",
    "\n",
    "search_results = client.search(\n",
    "    collection_name=collection_name,\n",
    "    query_vector=query_vector_small,\n",
    "    limit=1 \n",
    ")\n",
    "\n",
    "highest_score = search_results[0].score\n",
    "print(f\"\\nhighest_score: {highest_score}\")"
   ]
  },
  {
   "cell_type": "code",
   "execution_count": null,
   "id": "2d87cbbf",
   "metadata": {},
   "outputs": [],
   "source": []
  }
 ],
 "metadata": {
  "kernelspec": {
   "display_name": "Python 3",
   "language": "python",
   "name": "python3"
  },
  "language_info": {
   "codemirror_mode": {
    "name": "ipython",
    "version": 3
   },
   "file_extension": ".py",
   "mimetype": "text/x-python",
   "name": "python",
   "nbconvert_exporter": "python",
   "pygments_lexer": "ipython3",
   "version": "3.12.1"
  }
 },
 "nbformat": 4,
 "nbformat_minor": 5
}
